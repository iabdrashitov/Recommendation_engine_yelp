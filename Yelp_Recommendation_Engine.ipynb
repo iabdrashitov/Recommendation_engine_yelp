{
 "cells": [
  {
   "cell_type": "markdown",
   "metadata": {},
   "source": [
    "## Restaurants recommendation engine (based on Yelp challenge data)\n",
    "#### Developed by: Ildar Abdrashitov\n",
    "#### E-mail: i.abdrashitov.ds@gmail.com\n",
    "#### Github: https://github.com/iabdrashitov\n",
    "#### Mentored by: Nemanja Radojković\n",
    "#### Mentor`s e-mail: radojkovic.n@gmail.com\n",
    "#### Dataset source: https://www.yelp.com/dataset_challenge"
   ]
  },
  {
   "cell_type": "markdown",
   "metadata": {},
   "source": [
    "## In this notebook I will be showing how to build a recommendation engine which recommends restaurants (items) for reference user that are:\n",
    "* Most relevant to the reference user`s tastes and preferences\n",
    "* Highly ranked (liked) by other users with similar or identical gastronomical tastes and preferences\n",
    "* Most close to the location where the reference user goes out the most (yelps the most) (median location)\n",
    "\n",
    "#### General plan of the recommendation model:\n",
    "\n",
    "* Scan through the dataset and extract all businesses unique features (categories to which businesses belong to) \n",
    "* Identify reference user and other users who will be compared with the reference user in terms of tastes and preferences similarity\n",
    "* Generate all users preference multidimensional vectors\n",
    "* Calculate cosine similarity between the reference user`s and other users` preference vectors\n",
    "* Calculate weighted average rating of businesses reviewed by other users. Each business` weighted average rating will be depending on squared cosine similarity of the user reviewing this business and the rating this user gives within this review\n",
    "* Calculate combination metric: a metric which combines average weighted ratings of businesses and their location relative to the reference user`s median location, so that the business with the highest weighted average rating and the closest location wins \n",
    "* Proportionally adjusting businesses combination metric to the level of similarity between categories these businesses belong to and reference user`s preferred categories, so that among 2 businesses with highest scores the winner will be the business with the most relevant to the reference user categories \n",
    "* Picking top 10 business ids with the highest adjusted scores as recommended businesses\n",
    "#### ~ reference user => is the user whom the engine will generate recommendations for"
   ]
  },
  {
   "cell_type": "markdown",
   "metadata": {},
   "source": [
    "To start with lets import all necessary libraries which we will be using in due course ..."
   ]
  },
  {
   "cell_type": "code",
   "execution_count": 2,
   "metadata": {
    "collapsed": true
   },
   "outputs": [],
   "source": [
    "import matplotlib.pyplot as plt\n",
    "import seaborn as sb\n",
    "import pandas as pd\n",
    "import numpy as np\n",
    "from pandas.io.json import json_normalize\n",
    "import json\n",
    "import pymongo\n",
    "import pprint\n",
    "from pymongo import MongoClient\n",
    "import collections\n",
    "%matplotlib inline"
   ]
  },
  {
   "cell_type": "markdown",
   "metadata": {},
   "source": [
    "Due to fact that the original dataset is quite large for a single machine processing ( > 2 Gb ) as well as that not all information is required for the purpose of the present task we put all the data into the local MongoDB database and partially requested needed data from there\n",
    "\n",
    " For more info regarding MongoDB in general and PyMongo driver in particular, please look here: \n",
    "\n",
    "#### https://api.mongodb.com/python/current/\n",
    "#### https://docs.mongodb.com/\n",
    "\n",
    "#### P.S. You may use other ways to query the data you find the most convenient to you"
   ]
  },
  {
   "cell_type": "code",
   "execution_count": 3,
   "metadata": {
    "collapsed": false
   },
   "outputs": [
    {
     "name": "stdout",
     "output_type": "stream",
     "text": [
      "...Connected\n"
     ]
    }
   ],
   "source": [
    "# Creating a MongoDB connection client and connecting to the local DB with pre-imported Yelp json dataset\n",
    "\n",
    "client = MongoClient('mongodb://localhost:27017')\n",
    "\n",
    "db = client.yelp\n",
    "\n",
    "con_check = str(db)\n",
    "\n",
    "if con_check.find('yelp') != int(-1):\n",
    "    \n",
    "    print('...Connected')\n",
    "    \n",
    "else:\n",
    "    \n",
    "    print('...Connection Failed')"
   ]
  },
  {
   "cell_type": "markdown",
   "metadata": {},
   "source": [
    "To test if the recommender model works correctly we will run a test case with this model. The taste case represents:\n",
    "\n",
    "* 1 reference user with 10 reviews of 10 different businesses with identical categories (reco businesses). All reveiews have high ratings (5 stars)\n",
    "* 2 similar users with 21 reviews (20 reviews of different businesses (other than reco businesses) and 1 review of the reco business > the business wich has been reviewd by the reference user). All businesses are also identical between each other in terms of categories and identical to reco businesses` categories as well. Out of 21 businesses 10 businesses have low rating (2 stars) 11 businesses have high rating (5 stars)\n",
    "* 1 not similar user with 10 reviews of different businesses belonging to different categories than any business mentioned before. All reviews have high ratings (5 stars)"
   ]
  },
  {
   "cell_type": "code",
   "execution_count": 240,
   "metadata": {
    "collapsed": false
   },
   "outputs": [],
   "source": [
    "#Test DataFrame sim_biz_1_000000\n",
    "big_df = pd.DataFrame({'business_id':['ru_b_1', 'ru_b_2', 'ru_b_3', 'ru_b_4', 'ru_b_5', \n",
    "                                  'ru_b_6', 'ru_b_7', 'ru_b_8', 'ru_b_9', 'ru_b_10', 'ru_b_5',\n",
    "                                  'sim_biz_1_1', 'sim_biz_1_2', 'sim_biz_1_3', 'sim_biz_1_4', 'sim_biz_1_5',\n",
    "                                  'sim_biz_1_6', 'sim_biz_1_7', 'sim_biz_1_8', 'sim_biz_1_9', 'sim_biz_1_10',\n",
    "                                  'sim_biz_2_1', 'sim_biz_2_2', 'sim_biz_2_3', 'sim_biz_2_4', 'sim_biz_2_5',\n",
    "                                  'sim_biz_2_6', 'sim_biz_2_7', 'sim_biz_2_8', 'sim_biz_2_9',  'sim_biz_2_10',\n",
    "                                  'nsim_biz_1_1', 'nsim_biz_1_2', 'nsim_biz_1_3', 'nsim_biz_1_4', 'nsim_biz_1_5',\n",
    "                                  'nsim_biz_1_6', 'nsim_biz_1_7', 'nsim_biz_1_8', 'nsim_biz_1_9', 'nsim_biz_1_10'],\n",
    "                   \n",
    "                   'stars_x': [5, 5, 5, 5, 5, 5, 5, 5, 5, 5, 5, \n",
    "                               5, 2, 5, 2, 5, 2, 5, 2, 5, 2,\n",
    "                               5, 2, 5, 2, 5, 2, 5, 2, 5, 2,\n",
    "                               5, 5, 5, 5, 5, 5, 5, 5, 5, 5],\n",
    "                   \n",
    "                   'user_id': ['reco_user', 'reco_user', 'reco_user', 'reco_user', 'reco_user',\n",
    "                               'reco_user', 'reco_user', 'reco_user', 'reco_user', 'reco_user', 'sim_user_1',\n",
    "                               'sim_user_1', 'sim_user_1', 'sim_user_1', 'sim_user_1', 'sim_user_1',\n",
    "                               'sim_user_1', 'sim_user_1', 'sim_user_1', 'sim_user_1', 'sim_user_1',\n",
    "                               'sim_user_2', 'sim_user_2', 'sim_user_2', 'sim_user_2', 'sim_user_2',\n",
    "                               'sim_user_2', 'sim_user_2', 'sim_user_2', 'sim_user_2', 'sim_user_2',\n",
    "                               'nsim_user_1', 'nsim_user_1', 'nsim_user_1', 'nsim_user_1', 'nsim_user_1',\n",
    "                               'nsim_user_1', 'nsim_user_1', 'nsim_user_1', 'nsim_user_1', 'nsim_user_1'],\n",
    "                   \n",
    "                   \n",
    "                    'categories': [['Burgers', 'American (Traditional)', 'Restaurants'],\n",
    "                                   ['Burgers', 'American (Traditional)', 'Restaurants'],\n",
    "                                   ['Burgers', 'American (Traditional)', 'Restaurants'],\n",
    "                                   ['Burgers', 'American (Traditional)', 'Restaurants'],\n",
    "                                   ['Burgers'],\n",
    "                                   ['Burgers', 'American (Traditional)', 'Restaurants'],\n",
    "                                   ['Burgers', 'American (Traditional)', 'Restaurants'],\n",
    "                                   ['Burgers', 'American (Traditional)', 'Restaurants'],\n",
    "                                   ['Burgers', 'American (Traditional)', 'Restaurants'],\n",
    "                                   ['Burgers', 'American (Traditional)', 'Restaurants'],\n",
    "                                   ['Burgers'],\n",
    "                                   ['Burgers', 'American (Traditional)', 'Restaurants'],\n",
    "                                   ['Burgers', 'American (Traditional)', 'Restaurants'],\n",
    "                                   ['Burgers', 'American (Traditional)', 'Restaurants'],\n",
    "                                   ['Burgers', 'American (Traditional)', 'Restaurants'],\n",
    "                                   ['Burgers', 'American (Traditional)', 'Restaurants'],\n",
    "                                   ['Burgers', 'American (Traditional)', 'Restaurants'],\n",
    "                                   ['Burgers', 'American (Traditional)', 'Restaurants'],\n",
    "                                   ['Burgers', 'American (Traditional)', 'Restaurants'],\n",
    "                                   ['Burgers', 'American (Traditional)', 'Restaurants'],\n",
    "                                   ['Burgers', 'American (Traditional)', 'Restaurants'],\n",
    "                                   ['Burgers', 'American (Traditional)', 'Restaurants'],\n",
    "                                   ['Burgers', 'American (Traditional)', 'Restaurants'],\n",
    "                                   ['Burgers', 'American (Traditional)', 'Restaurants'],\n",
    "                                   ['Burgers', 'American (Traditional)', 'Restaurants'],\n",
    "                                   ['Burgers', 'American (Traditional)', 'Restaurants'],\n",
    "                                   ['Burgers', 'American (Traditional)', 'Restaurants'],\n",
    "                                   ['Burgers', 'American (Traditional)', 'Restaurants'],\n",
    "                                   ['Burgers', 'American (Traditional)', 'Restaurants'],\n",
    "                                   ['Burgers', 'American (Traditional)', 'Restaurants'],\n",
    "                                   ['Burgers', 'American (Traditional)', 'Restaurants'],\n",
    "                                   ['Italian', 'Pizza', 'Restaurants'],\n",
    "                                   ['Italian', 'Pizza', 'Restaurants'],\n",
    "                                   ['Italian', 'Pizza', 'Restaurants'],\n",
    "                                   ['Italian', 'Pizza', 'Restaurants'],\n",
    "                                   ['Italian', 'Pizza', 'Restaurants'],\n",
    "                                   ['Italian', 'Pizza', 'Restaurants'],\n",
    "                                   ['Italian', 'Pizza', 'Restaurants'],\n",
    "                                   ['Italian', 'Pizza', 'Restaurants'],\n",
    "                                   ['Italian', 'Pizza', 'Restaurants'],\n",
    "                                   ['Italian', 'Pizza', 'Restaurants']],\n",
    "                   \n",
    "                   'city': ['Las Vegas', 'Las Vegas', 'Las Vegas', 'Las Vegas', 'Las Vegas', 'Las Vegas',\n",
    "                            'Las Vegas', 'Las Vegas', 'Las Vegas', 'Las Vegas', 'Las Vegas',\n",
    "                            'Las Vegas', 'Las Vegas', 'Las Vegas', 'Las Vegas', 'Las Vegas',\n",
    "                            'Las Vegas', 'Las Vegas', 'Las Vegas', 'Las Vegas', 'Las Vegas',\n",
    "                            'Las Vegas', 'Las Vegas', 'Las Vegas', 'Las Vegas', 'Las Vegas',\n",
    "                            'Las Vegas', 'Las Vegas', 'Las Vegas', 'Las Vegas', 'Las Vegas',\n",
    "                            'Las Vegas', 'Las Vegas', 'Las Vegas', 'Las Vegas', 'Las Vegas',\n",
    "                            'Las Vegas', 'Las Vegas', 'Las Vegas', 'Las Vegas', 'Las Vegas'],\n",
    "                   \n",
    "                   'latitude': [8, 8, 8, 8, 8, 8, 8, 8, 8, 8, 8,\n",
    "                                10, 10, 10, 10, 10, 10, 10, 10, 10, 10,\n",
    "                                12, 12, 12, 12, 12, 12, 12, 12, 12, 12,\n",
    "                                6, 6, 6, 6, 6, 6, 6, 6, 6, 6],\n",
    "                   \n",
    "                   'longitude': [7, 9, 11, 13, 15, 17, 19, 21, 23, 25, 15,\n",
    "                                 7, 9, 11, 13, 15, 17, 19, 21, 23, 25,\n",
    "                                 7, 9, 11, 13, 15, 17, 19, 21, 23, 25,\n",
    "                                 7, 9, 11, 13, 15, 17, 19, 21, 23, 25]\n",
    "                  \n",
    "                             \n",
    "                  })"
   ]
  },
  {
   "cell_type": "markdown",
   "metadata": {},
   "source": [
    "In order to generate users preference vectors first we need to extract all features (categories) along which these vectors will be propagating..."
   ]
  },
  {
   "cell_type": "code",
   "execution_count": 241,
   "metadata": {
    "collapsed": false
   },
   "outputs": [],
   "source": [
    "# Generating a list of businesses features\n",
    "def features_retrival(big_df):\n",
    "    \n",
    "    catlist = []\n",
    "    \n",
    "    for business_feature in big_df.categories:\n",
    "        \n",
    "        for category in business_feature:\n",
    "            \n",
    "            catlist.append(category)\n",
    "            \n",
    "    counter=collections.Counter(catlist)\n",
    "    \n",
    "    features = counter.most_common(len(counter))\n",
    "\n",
    "    features_list = []\n",
    "    \n",
    "    for feature in features:\n",
    "        \n",
    "        features_list.append(feature[0])\n",
    "        \n",
    "    return features_list\n",
    "    "
   ]
  },
  {
   "cell_type": "code",
   "execution_count": 242,
   "metadata": {
    "collapsed": false
   },
   "outputs": [
    {
     "data": {
      "text/plain": [
       "['Restaurants', 'Burgers', 'American (Traditional)', 'Italian', 'Pizza']"
      ]
     },
     "execution_count": 242,
     "metadata": {},
     "output_type": "execute_result"
    }
   ],
   "source": [
    "features_list = features_retrival(big_df) # 1\n",
    "features_list"
   ]
  },
  {
   "cell_type": "code",
   "execution_count": 243,
   "metadata": {
    "collapsed": false
   },
   "outputs": [],
   "source": [
    "# Getting a list of unique users in the data set whom we will be generating preference vectors for\n",
    "users = big_df.user_id.unique() # 2"
   ]
  },
  {
   "cell_type": "markdown",
   "metadata": {},
   "source": [
    "Generating users preference dataframe : getting a cumulative score for each feature the user is associated with normalized by the max rating score value available for each particular user (max rating score = number of reviews * 5)"
   ]
  },
  {
   "cell_type": "code",
   "execution_count": 244,
   "metadata": {
    "collapsed": false
   },
   "outputs": [],
   "source": [
    "# Users preferences vectorization\n",
    "\n",
    "def user_pref_vectorization(users, features_list):\n",
    "    \n",
    "    all_users_dict = dict()\n",
    "    \n",
    "    for user in users:\n",
    "        \n",
    "        one_user = big_df[big_df.user_id == user]\n",
    "        \n",
    "        normalize_by = len(one_user.user_id)*5\n",
    "        \n",
    "        user_ratings = one_user.stars_x\n",
    "        \n",
    "        user_ratings_indexes = user_ratings.index\n",
    "        \n",
    "        user_categories_indexes = one_user.categories.index\n",
    "        \n",
    "        user_indexes = user_categories_indexes\n",
    "        \n",
    "        user_pref_dict = dict()\n",
    "        \n",
    "        for feature in features_list:\n",
    "            \n",
    "            user_pref_dict[feature] = 0\n",
    "            \n",
    "        for index in user_indexes:\n",
    "            \n",
    "            user_review_rating = user_ratings[user_ratings.index == index].values[0]\n",
    "            \n",
    "            user_review_categories = one_user.categories[one_user.index == index].values[0]\n",
    "            \n",
    "            for user_review_category in user_review_categories:\n",
    "                \n",
    "                user_pref_dict[user_review_category] = (user_pref_dict[user_review_category] + user_review_rating)/normalize_by\n",
    "                \n",
    "        all_users_dict[user] = user_pref_dict\n",
    "        \n",
    "    users_pref_df = pd.DataFrame.from_dict(all_users_dict, orient='index', dtype=None)\n",
    "    \n",
    "    return users_pref_df"
   ]
  },
  {
   "cell_type": "code",
   "execution_count": 245,
   "metadata": {
    "collapsed": false
   },
   "outputs": [
    {
     "data": {
      "text/html": [
       "<div>\n",
       "<table border=\"1\" class=\"dataframe\">\n",
       "  <thead>\n",
       "    <tr style=\"text-align: right;\">\n",
       "      <th></th>\n",
       "      <th>Burgers</th>\n",
       "      <th>Restaurants</th>\n",
       "      <th>Italian</th>\n",
       "      <th>Pizza</th>\n",
       "      <th>American (Traditional)</th>\n",
       "    </tr>\n",
       "  </thead>\n",
       "  <tbody>\n",
       "    <tr>\n",
       "      <th>nsim_user_1</th>\n",
       "      <td>0.000000</td>\n",
       "      <td>0.102041</td>\n",
       "      <td>0.102041</td>\n",
       "      <td>0.102041</td>\n",
       "      <td>0.000000</td>\n",
       "    </tr>\n",
       "    <tr>\n",
       "      <th>reco_user</th>\n",
       "      <td>0.102041</td>\n",
       "      <td>0.102041</td>\n",
       "      <td>0.000000</td>\n",
       "      <td>0.000000</td>\n",
       "      <td>0.102041</td>\n",
       "    </tr>\n",
       "    <tr>\n",
       "      <th>sim_user_1</th>\n",
       "      <td>0.038029</td>\n",
       "      <td>0.038029</td>\n",
       "      <td>0.000000</td>\n",
       "      <td>0.000000</td>\n",
       "      <td>0.038029</td>\n",
       "    </tr>\n",
       "    <tr>\n",
       "      <th>sim_user_2</th>\n",
       "      <td>0.042017</td>\n",
       "      <td>0.042017</td>\n",
       "      <td>0.000000</td>\n",
       "      <td>0.000000</td>\n",
       "      <td>0.042017</td>\n",
       "    </tr>\n",
       "  </tbody>\n",
       "</table>\n",
       "</div>"
      ],
      "text/plain": [
       "              Burgers  Restaurants   Italian     Pizza  American (Traditional)\n",
       "nsim_user_1  0.000000     0.102041  0.102041  0.102041                0.000000\n",
       "reco_user    0.102041     0.102041  0.000000  0.000000                0.102041\n",
       "sim_user_1   0.038029     0.038029  0.000000  0.000000                0.038029\n",
       "sim_user_2   0.042017     0.042017  0.000000  0.000000                0.042017"
      ]
     },
     "execution_count": 245,
     "metadata": {},
     "output_type": "execute_result"
    }
   ],
   "source": [
    "# Displaying users preference vectors data frame\n",
    "users_pref_df = user_pref_vectorization(users, features_retrival(big_df)) # 3\n",
    "users_pref_df"
   ]
  },
  {
   "cell_type": "markdown",
   "metadata": {},
   "source": [
    "Identifying a reference user and his corresponding preference vector out of users preference vectors data frame"
   ]
  },
  {
   "cell_type": "code",
   "execution_count": 246,
   "metadata": {
    "collapsed": false
   },
   "outputs": [],
   "source": [
    "reco_user = 'reco_user' # 4\n",
    "user_pref_vector = users_pref_df[users_pref_df.index == reco_user]"
   ]
  },
  {
   "cell_type": "markdown",
   "metadata": {},
   "source": [
    "Identifying reference user`s prefrences. Cleaning preference vector from 0 valued features ..."
   ]
  },
  {
   "cell_type": "code",
   "execution_count": 247,
   "metadata": {
    "collapsed": true
   },
   "outputs": [],
   "source": [
    "def ref_user_pref(users_pref_df):\n",
    "    \n",
    "    features = users_pref_df.columns.tolist()\n",
    "    \n",
    "    favorite_categories = users_pref_df[users_pref_df.index == reco_user]\n",
    "    \n",
    "    favorite_categories_dict = dict()\n",
    "    \n",
    "    for feature in features:\n",
    "        \n",
    "        favorite_categories_dict[feature] = favorite_categories[feature].values[0]\n",
    "        \n",
    "    reco_user_preferences = sorted(favorite_categories_dict.items(), key = lambda t:t[1])\n",
    "    \n",
    "    user_preferences_dict = dict()\n",
    "    \n",
    "    for item in reco_user_preferences:\n",
    "        \n",
    "        if item[1] != 0:\n",
    "            \n",
    "            user_preferences_dict[item[0]] = item[1]\n",
    "            \n",
    "        else:\n",
    "            \n",
    "            continue\n",
    "            \n",
    "    return user_preferences_dict"
   ]
  },
  {
   "cell_type": "code",
   "execution_count": 248,
   "metadata": {
    "collapsed": false
   },
   "outputs": [
    {
     "data": {
      "text/plain": [
       "{'American (Traditional)': 0.10204081632653056,\n",
       " 'Burgers': 0.10204081632653061,\n",
       " 'Restaurants': 0.10204081632653056}"
      ]
     },
     "execution_count": 248,
     "metadata": {},
     "output_type": "execute_result"
    }
   ],
   "source": [
    "user_preferences_dict = ref_user_pref(users_pref_df) # 5\n",
    "user_preferences_dict"
   ]
  },
  {
   "cell_type": "markdown",
   "metadata": {},
   "source": [
    "Identifying users which will be analyzed for similarity against our reference user. Basically we need to take all users except reference user..."
   ]
  },
  {
   "cell_type": "code",
   "execution_count": 249,
   "metadata": {
    "collapsed": false
   },
   "outputs": [
    {
     "data": {
      "text/plain": [
       "3"
      ]
     },
     "execution_count": 249,
     "metadata": {},
     "output_type": "execute_result"
    }
   ],
   "source": [
    "indexes = users_pref_df[users_pref_df.index!= user_pref_vector.index[0]].index # 6\n",
    "len(indexes)"
   ]
  },
  {
   "cell_type": "code",
   "execution_count": 250,
   "metadata": {
    "collapsed": true
   },
   "outputs": [],
   "source": [
    "# Importing cosine similarity method from sklearn library\n",
    "from sklearn.metrics.pairwise import cosine_similarity "
   ]
  },
  {
   "cell_type": "markdown",
   "metadata": {},
   "source": [
    "Calculating cosine similarity of all users towards our reference user. Cosine similarity may occupy values from 0 - 1 => high cosine similarity close to 1 means that 2 users preference vectors are of the same direction (users have similar preferences): low cosine similarity close to 0 means that vectors are orthogonal (users have no similar preferences)"
   ]
  },
  {
   "cell_type": "code",
   "execution_count": 251,
   "metadata": {
    "collapsed": true
   },
   "outputs": [],
   "source": [
    "def cos_similarity(indexes, users_pref_df, user_pref_vector):\n",
    "    \n",
    "    from sklearn.metrics.pairwise import cosine_similarity \n",
    "    \n",
    "    cos_sim_dict = dict()\n",
    "    \n",
    "    for index in indexes:\n",
    "        \n",
    "        other_user_pref_vector = users_pref_df[users_pref_df.index == index]\n",
    "        \n",
    "        cos_sim = cosine_similarity(user_pref_vector,other_user_pref_vector)[0][0]\n",
    "        \n",
    "        cos_sim_dict[index] = cos_sim\n",
    "        \n",
    "    sorted_user_similarities = sorted(cos_sim_dict.items(), key = lambda t:t[1])\n",
    "    \n",
    "    return sorted_user_similarities\n",
    "        "
   ]
  },
  {
   "cell_type": "code",
   "execution_count": 252,
   "metadata": {
    "collapsed": false
   },
   "outputs": [
    {
     "data": {
      "text/plain": [
       "3"
      ]
     },
     "execution_count": 252,
     "metadata": {},
     "output_type": "execute_result"
    }
   ],
   "source": [
    "sorted_user_similarities = cos_similarity(indexes, users_pref_df, user_pref_vector) #7\n",
    "len(sorted_user_similarities)"
   ]
  },
  {
   "cell_type": "code",
   "execution_count": 253,
   "metadata": {
    "collapsed": false
   },
   "outputs": [
    {
     "data": {
      "text/plain": [
       "[('nsim_user_1', 0.3333333333333332),\n",
       " ('sim_user_1', 0.99999999999999978),\n",
       " ('sim_user_2', 0.99999999999999978)]"
      ]
     },
     "execution_count": 253,
     "metadata": {},
     "output_type": "execute_result"
    }
   ],
   "source": [
    "# Displaying users ids and their sorted cosine similarities values\n",
    "similar_users = sorted_user_similarities[-3:] # 8\n",
    "similar_users"
   ]
  },
  {
   "cell_type": "markdown",
   "metadata": {},
   "source": [
    "Calculating weighted average business ratings as a ratio of sum of quadratically adjusted users ratings and sum of squared users similarities. This approach allows us to give more weight to similar users and suppress ratings of users with low similarity..."
   ]
  },
  {
   "cell_type": "code",
   "execution_count": 254,
   "metadata": {
    "collapsed": false
   },
   "outputs": [],
   "source": [
    "def business_rating(similar_users, big_df):\n",
    "    \n",
    "    bus_rating_dict = dict()\n",
    "    \n",
    "    for similar_user in similar_users:\n",
    "        \n",
    "        similar_user_id = similar_user[0]\n",
    "        \n",
    "        similar_user_cos_sim = similar_user[1]\n",
    "        \n",
    "        similar_user_sq_sim = similar_user_cos_sim**2\n",
    "        \n",
    "        similar_user_data = big_df[big_df.user_id == similar_user_id]\n",
    "        \n",
    "        for business_id in similar_user_data.business_id.unique():\n",
    "            \n",
    "            stars = similar_user_data[similar_user_data.business_id == business_id].stars_x.values  \n",
    "            \n",
    "            for star in stars:\n",
    "                \n",
    "                quadratic_business_rating = star * similar_user_sq_sim\n",
    "                \n",
    "                if business_id not in bus_rating_dict.keys():\n",
    "                    \n",
    "                    bus_rating_dict.setdefault(business_id, []).append(similar_user_sq_sim)\n",
    "                    \n",
    "                    bus_rating_dict.setdefault(business_id, []).append(quadratic_business_rating)\n",
    "                    \n",
    "                    bus_rating_dict.setdefault(business_id, []).append(quadratic_business_rating/similar_user_sq_sim)\n",
    "                    \n",
    "                else:\n",
    "                    \n",
    "                    bus_rating_dict[business_id][0] = bus_rating_dict[business_id][0] + similar_user_sq_sim\n",
    "                    \n",
    "                    bus_rating_dict[business_id][1] = bus_rating_dict[business_id][1] + quadratic_business_rating\n",
    "                    \n",
    "                    bus_rating_dict[business_id][2] = float(bus_rating_dict[business_id][1] / bus_rating_dict[business_id][0])\n",
    "                    \n",
    "    \n",
    "    similar_user_business_rating_dict = dict() # transforming bus_rating_dict, retriving the 3rd value in the value field for each key\n",
    "    \n",
    "    for key in bus_rating_dict.keys():\n",
    "        \n",
    "        value = bus_rating_dict[key][2]\n",
    "        \n",
    "        similar_user_business_rating_dict[key] = value\n",
    "        \n",
    "        similar_user_business_rating_dict\n",
    "        \n",
    "        \n",
    "    similar_user_business_rating_list = sorted(similar_user_business_rating_dict.items(), key = lambda t:t[1])\n",
    "    \n",
    "    return similar_user_business_rating_list"
   ]
  },
  {
   "cell_type": "code",
   "execution_count": 255,
   "metadata": {
    "collapsed": false
   },
   "outputs": [
    {
     "data": {
      "text/plain": [
       "31"
      ]
     },
     "execution_count": 255,
     "metadata": {},
     "output_type": "execute_result"
    }
   ],
   "source": [
    "similar_user_business_rating_list = business_rating(similar_users, big_df) # 9\n",
    "# List length check\n",
    "len(similar_user_business_rating_list)"
   ]
  },
  {
   "cell_type": "code",
   "execution_count": 256,
   "metadata": {
    "collapsed": false
   },
   "outputs": [
    {
     "data": {
      "text/plain": [
       "[('sim_biz_1_4', 2.0),\n",
       " ('sim_biz_2_2', 2.0),\n",
       " ('sim_biz_1_2', 2.0),\n",
       " ('sim_biz_2_4', 2.0),\n",
       " ('sim_biz_1_8', 2.0),\n",
       " ('sim_biz_2_10', 2.0),\n",
       " ('sim_biz_2_8', 2.0),\n",
       " ('sim_biz_2_6', 2.0),\n",
       " ('sim_biz_1_10', 2.0),\n",
       " ('sim_biz_1_6', 2.0),\n",
       " ('nsim_biz_1_3', 5.0),\n",
       " ('nsim_biz_1_10', 5.0),\n",
       " ('nsim_biz_1_5', 5.0),\n",
       " ('nsim_biz_1_6', 5.0),\n",
       " ('nsim_biz_1_2', 5.0),\n",
       " ('nsim_biz_1_8', 5.0),\n",
       " ('nsim_biz_1_4', 5.0),\n",
       " ('nsim_biz_1_9', 5.0),\n",
       " ('nsim_biz_1_1', 5.0),\n",
       " ('nsim_biz_1_7', 5.0),\n",
       " ('sim_biz_1_1', 5.0000000000000009),\n",
       " ('sim_biz_2_3', 5.0000000000000009),\n",
       " ('sim_biz_2_5', 5.0000000000000009),\n",
       " ('sim_biz_2_1', 5.0000000000000009),\n",
       " ('sim_biz_1_5', 5.0000000000000009),\n",
       " ('sim_biz_2_9', 5.0000000000000009),\n",
       " ('sim_biz_1_9', 5.0000000000000009),\n",
       " ('sim_biz_1_7', 5.0000000000000009),\n",
       " ('sim_biz_1_3', 5.0000000000000009),\n",
       " ('sim_biz_2_7', 5.0000000000000009),\n",
       " ('ru_b_5', 5.0000000000000009)]"
      ]
     },
     "execution_count": 256,
     "metadata": {},
     "output_type": "execute_result"
    }
   ],
   "source": [
    "# Displaying sorted business ids and their corresponding weighted ratings\n",
    "similar_user_business_rating_list = similar_user_business_rating_list[-31:] # 10\n",
    "similar_user_business_rating_list"
   ]
  },
  {
   "cell_type": "code",
   "execution_count": 257,
   "metadata": {
    "collapsed": false
   },
   "outputs": [],
   "source": [
    "# Spotting reco user`s reviews median location\n",
    "\n",
    "reviews_latitude_list = big_df[big_df.user_id == reco_user].latitude.tolist()  # 11\n",
    "reviews_longitude_list = big_df[big_df.user_id == reco_user].longitude.tolist()\n",
    "user_mean_latitude = np.median((reviews_latitude_list))\n",
    "user_mean_longitude = np.median((reviews_longitude_list))"
   ]
  },
  {
   "cell_type": "markdown",
   "metadata": {},
   "source": [
    "Calculating distances between each business and reference user`s median loaction. Rounding distance to 4 decimals, thus getting the following distance ranges:\n",
    "\n",
    "* distance = 0\n",
    "* distance >= 1\n",
    "* distance >=0.1 and <1\n",
    "* distance >=0.01 and < 0.1\n",
    "* distance >= 0.001 and <0.01\n",
    "* distance >= 0.0001 and <0.001"
   ]
  },
  {
   "cell_type": "code",
   "execution_count": 258,
   "metadata": {
    "collapsed": false
   },
   "outputs": [],
   "source": [
    "def distance(similar_user_business_rating_list, big_df, user_mean_latitude, user_mean_longitude):\n",
    "    \n",
    "    sim_bus = dict()\n",
    "    \n",
    "    for similar_business in similar_user_business_rating_list:\n",
    "        \n",
    "        similar_business_id = similar_business[0]\n",
    "        \n",
    "        similar_business_longitude = big_df[big_df.business_id == similar_business_id].longitude.values[0]\n",
    "        \n",
    "        similar_business_latitude = big_df[big_df.business_id == similar_business_id].latitude.values[0]\n",
    "        \n",
    "        distance = np.sqrt((similar_business_longitude - user_mean_longitude)**2 + (similar_business_latitude - user_mean_latitude)**2)\n",
    "        \n",
    "        sim_bus[similar_business] = float(\"{0:.4f}\".format(round(distance,4)))\n",
    "        \n",
    "    return sim_bus"
   ]
  },
  {
   "cell_type": "code",
   "execution_count": 259,
   "metadata": {
    "collapsed": false
   },
   "outputs": [],
   "source": [
    "sim_bus = distance(similar_user_business_rating_list, big_df, user_mean_latitude, user_mean_longitude) # 12"
   ]
  },
  {
   "cell_type": "markdown",
   "metadata": {
    "collapsed": false
   },
   "source": [
    "Calculating businesses combination metric which connects weighted average ratings of businesses and their relative distance to the reference user`s median location. Weighted average rating is adjusted according to the distance range a particular business lies within..."
   ]
  },
  {
   "cell_type": "code",
   "execution_count": 260,
   "metadata": {
    "collapsed": true
   },
   "outputs": [],
   "source": [
    "def combination_metric(sim_bus):\n",
    "    \n",
    "    distance_rating_sum_businesses = dict()\n",
    "    \n",
    "    for key in sim_bus.keys():\n",
    "        \n",
    "        if sim_bus[key] == 0 :\n",
    "            \n",
    "            distance_rating_sum_businesses[key[0]] = key[1]*100000000000\n",
    "            \n",
    "        elif((sim_bus[key] != 0) & (sim_bus[key] >= 0.0001) & (sim_bus[key] < 0.001)):\n",
    "            \n",
    "            distance_rating_sum_businesses[key[0]] = key[1]*10000 + 1/sim_bus[key]\n",
    "            \n",
    "        elif((sim_bus[key] != 0) & (sim_bus[key] >= 0.001) & (sim_bus[key] < 0.01)):\n",
    "            \n",
    "            distance_rating_sum_businesses[key[0]] = key[1]*1000 + 1/sim_bus[key]\n",
    "            \n",
    "        elif((sim_bus[key] != 0) & (sim_bus[key] >= 0.01) & (sim_bus[key] < 0.1)):\n",
    "            \n",
    "            distance_rating_sum_businesses[key[0]] = key[1]*100 + 1/sim_bus[key]\n",
    "            \n",
    "        elif((sim_bus[key] != 0) & (sim_bus[key] >= 0.1) & (sim_bus[key] < 1)):\n",
    "            \n",
    "            distance_rating_sum_businesses[key[0]] = key[1]*10 + 1/sim_bus[key]\n",
    "            \n",
    "        elif((sim_bus[key] != 0) & (sim_bus[key] >= 1)) :\n",
    "            \n",
    "            distance_rating_sum_businesses[key[0]] = key[1]*1 + 1/sim_bus[key]\n",
    "            \n",
    "    most_close_businesses_list = sorted(distance_rating_sum_businesses.items(), key = lambda t:t[1])\n",
    "    \n",
    "    return most_close_businesses_list"
   ]
  },
  {
   "cell_type": "code",
   "execution_count": 261,
   "metadata": {
    "collapsed": false
   },
   "outputs": [
    {
     "data": {
      "text/plain": [
       "31"
      ]
     },
     "execution_count": 261,
     "metadata": {},
     "output_type": "execute_result"
    }
   ],
   "source": [
    "most_close_businesses_list = combination_metric(sim_bus)\n",
    "len(most_close_businesses_list)"
   ]
  },
  {
   "cell_type": "code",
   "execution_count": 262,
   "metadata": {
    "collapsed": false
   },
   "outputs": [
    {
     "data": {
      "text/plain": [
       "[('sim_biz_2_10', 2.101534181482196),\n",
       " ('sim_biz_1_10', 2.1084657519388252),\n",
       " ('sim_biz_2_2', 2.1240340845664387),\n",
       " ('sim_biz_1_2', 2.1373607505391408),\n",
       " ('sim_biz_2_8', 2.1561743530477426),\n",
       " ('sim_biz_1_8', 2.1856941246378963),\n",
       " ('sim_biz_2_4', 2.2000000000000002),\n",
       " ('sim_biz_2_6', 2.2425359559554705),\n",
       " ('sim_biz_1_4', 2.2773463501220323),\n",
       " ('sim_biz_1_6', 2.4472071910916329),\n",
       " ('sim_biz_2_1', 5.1015341814821973),\n",
       " ('nsim_biz_1_10', 5.1084657519388257),\n",
       " ('nsim_biz_1_1', 5.1084657519388257),\n",
       " ('sim_biz_1_1', 5.1084657519388266),\n",
       " ('sim_biz_2_9', 5.1240340845664401),\n",
       " ('nsim_biz_1_2', 5.1373607505391412),\n",
       " ('nsim_biz_1_9', 5.1373607505391412),\n",
       " ('sim_biz_1_9', 5.1373607505391421),\n",
       " ('sim_biz_2_3', 5.1561743530477431),\n",
       " ('nsim_biz_1_3', 5.1856941246378963),\n",
       " ('nsim_biz_1_8', 5.1856941246378963),\n",
       " ('sim_biz_1_3', 5.1856941246378971),\n",
       " ('sim_biz_2_7', 5.2000000000000011),\n",
       " ('sim_biz_2_5', 5.2425359559554714),\n",
       " ('nsim_biz_1_4', 5.2773463501220323),\n",
       " ('nsim_biz_1_7', 5.2773463501220323),\n",
       " ('sim_biz_1_7', 5.2773463501220332),\n",
       " ('nsim_biz_1_5', 5.4472071910916329),\n",
       " ('nsim_biz_1_6', 5.4472071910916329),\n",
       " ('sim_biz_1_5', 5.4472071910916338),\n",
       " ('ru_b_5', 6.0000000000000009)]"
      ]
     },
     "execution_count": 262,
     "metadata": {},
     "output_type": "execute_result"
    }
   ],
   "source": [
    "# Displaying business ids with the corresponding combination metric\n",
    "most_close_businesses_list = most_close_businesses_list[-31:]\n",
    "most_close_businesses_list"
   ]
  },
  {
   "cell_type": "markdown",
   "metadata": {},
   "source": [
    "Now lets add some additional weight to businesses combination metric so that to take into account of how much a particular business (its categories) matches a particular user`s combination of tastes..."
   ]
  },
  {
   "cell_type": "code",
   "execution_count": 263,
   "metadata": {
    "collapsed": true
   },
   "outputs": [],
   "source": [
    "def weight_tastes(most_close_businesses_list, big_df):\n",
    "    \n",
    "    pref_weighted_businesses = dict()\n",
    "    \n",
    "    for business_item in most_close_businesses_list:\n",
    "        \n",
    "        business_categories = big_df[big_df.business_id == business_item[0]].categories.values[0]\n",
    "        \n",
    "        taste_score = 0\n",
    "        \n",
    "        for key in user_preferences_dict.keys():\n",
    "            \n",
    "            if key in business_categories:\n",
    "                \n",
    "                taste_score = (taste_score + user_preferences_dict[key])\n",
    "                \n",
    "            else:\n",
    "                \n",
    "                continue\n",
    "                \n",
    "        if taste_score > 0:\n",
    "            \n",
    "            taste_score = 1 + 100 * taste_score\n",
    "            \n",
    "        elif taste_score == 0:\n",
    "            \n",
    "            taste_score = 1\n",
    "    \n",
    "        pref_weighted_businesses[business_item[0]] = business_item[1] * taste_score\n",
    "    \n",
    "    return pref_weighted_businesses"
   ]
  },
  {
   "cell_type": "code",
   "execution_count": 264,
   "metadata": {
    "collapsed": false
   },
   "outputs": [
    {
     "data": {
      "text/plain": [
       "31"
      ]
     },
     "execution_count": 264,
     "metadata": {},
     "output_type": "execute_result"
    }
   ],
   "source": [
    "pref_weighted_businesses = weight_tastes(most_close_businesses_list, big_df)\n",
    "len(pref_weighted_businesses)"
   ]
  },
  {
   "cell_type": "markdown",
   "metadata": {},
   "source": [
    "The last step is to pick the winning businesses (with the highest overall weight) as recommended businesses..."
   ]
  },
  {
   "cell_type": "code",
   "execution_count": 265,
   "metadata": {
    "collapsed": false
   },
   "outputs": [
    {
     "data": {
      "text/plain": [
       "[('sim_biz_2_1', 161.27094790032493),\n",
       " ('sim_biz_1_1', 161.49007040312733),\n",
       " ('sim_biz_2_9', 161.98222034680435),\n",
       " ('sim_biz_1_9', 162.4035061752067),\n",
       " ('sim_biz_2_3', 162.99824638512146),\n",
       " ('sim_biz_1_3', 163.93143263396121),\n",
       " ('sim_biz_2_7', 164.38367346938773),\n",
       " ('sim_biz_2_5', 165.72833052602087),\n",
       " ('sim_biz_1_7', 166.82876523140871),\n",
       " ('sim_biz_1_5', 172.198447734713)]"
      ]
     },
     "execution_count": 265,
     "metadata": {},
     "output_type": "execute_result"
    }
   ],
   "source": [
    "# Displaying top 10 recommended businesses with the highest adjusted comnination metric values\n",
    "recommended = sorted(pref_weighted_businesses.items(), key = lambda t:t[1])[-10:] # \n",
    "recommended"
   ]
  },
  {
   "cell_type": "code",
   "execution_count": 266,
   "metadata": {
    "collapsed": true
   },
   "outputs": [],
   "source": [
    "# Identifying recommended businesses coordinates\n",
    "reco_longitude_list = list()\n",
    "reco_latitude_list = list()\n",
    "\n",
    "\n",
    "for item in recommended:\n",
    "    reco_longitude = big_df[big_df.business_id == item[0]].longitude.values[0]\n",
    "    reco_latitude = big_df[big_df.business_id == item[0]].latitude.values[0]\n",
    "    \n",
    "    reco_longitude_list.append(reco_longitude)\n",
    "    reco_latitude_list.append(reco_latitude)"
   ]
  },
  {
   "cell_type": "code",
   "execution_count": 267,
   "metadata": {
    "collapsed": false
   },
   "outputs": [],
   "source": [
    "# Putting together all coordinates of businesses in the system\n",
    "\n",
    "reco_user_latitude = big_df[big_df.user_id == 'reco_user'].latitude\n",
    "reco_user_longitude = big_df[big_df.user_id == 'reco_user'].longitude\n",
    "sim_user_latitude = big_df[(big_df.latitude>8)].latitude\n",
    "sim_user_longitude = big_df[(big_df.latitude>8)].longitude\n",
    "nsim_user_latitude = big_df[(big_df.latitude<8)].latitude\n",
    "nsim_user_longitude = big_df[(big_df.latitude<8)].longitude\n",
    "median_latitude = reco_user_latitude.median()\n",
    "median_longitude = reco_user_longitude.median()\n"
   ]
  },
  {
   "cell_type": "markdown",
   "metadata": {},
   "source": [
    "As it is shown in the figure below the recommender engine has picked those businesses which match reference user`s preferences, including those businesses which has been reviewed both by the reference user and similar user. Among similar businesses the recommender only has chosen those which had received high ratings from similar users and has ignored those businesses which had received low rating as well as those businesses which do not match reference user`s preferences (red stars)\n",
    "\n",
    "###### Red dots overlaying red and orange stars point on recommended businesses\n",
    "\n",
    "###### Blue cross points on reference user`s median location"
   ]
  },
  {
   "cell_type": "code",
   "execution_count": 268,
   "metadata": {
    "collapsed": false
   },
   "outputs": [
    {
     "data": {
      "text/plain": [
       "<matplotlib.text.Text at 0x2090e558400>"
      ]
     },
     "execution_count": 268,
     "metadata": {},
     "output_type": "execute_result"
    },
    {
     "data": {
      "image/png": "[encoded data removed]",
      "text/plain": [
       "<matplotlib.figure.Figure at 0x2090e5059e8>"
      ]
     },
     "metadata": {},
     "output_type": "display_data"
    }
   ],
   "source": [
    "# Plotting the picture\n",
    "\n",
    "plt.figure()\n",
    "\n",
    "plt.scatter(reco_user_longitude, reco_user_latitude, color = 'orange', marker = '*', s = 300)\n",
    "plt.scatter(sim_user_longitude, sim_user_latitude, color = 'green', marker = '*', s = 250)\n",
    "plt.scatter(reco_longitude_list, reco_latitude_list, color = 'red', marker = 'p', s = 50)\n",
    "plt.scatter(nsim_user_longitude, nsim_user_latitude, color = 'brown', marker = '*', s = 250)\n",
    "plt.scatter(median_longitude, median_latitude, color = 'blue',marker='x', s = 150, linewidths=2.5)\n",
    "plt.ylabel('Latitude')\n",
    "plt.xlabel('Longitude')"
   ]
  },
  {
   "cell_type": "markdown",
   "metadata": {},
   "source": [
    "Now lets change first similar user`s 11th rating (rating of the business located in the orange stars row)  from 5 stars to 2 stars and see what recommender engine will recommend in this case:\n",
    "\n",
    "As you can see from the plot below even though low rated business is the most close located business to the reference user`s median location it has been ignored by the recommender"
   ]
  },
  {
   "cell_type": "code",
   "execution_count": 292,
   "metadata": {
    "collapsed": false
   },
   "outputs": [
    {
     "data": {
      "text/plain": [
       "<matplotlib.text.Text at 0x1af617db438>"
      ]
     },
     "execution_count": 292,
     "metadata": {},
     "output_type": "execute_result"
    },
    {
     "data": {
      "image/png": "[encoded data removed]",
      "text/plain": [
       "<matplotlib.figure.Figure at 0x1af6182beb8>"
      ]
     },
     "metadata": {},
     "output_type": "display_data"
    }
   ],
   "source": [
    "# Plotting the picture\n",
    "\n",
    "plt.figure()\n",
    "\n",
    "plt.scatter(reco_user_longitude, reco_user_latitude, color = 'orange', marker = '*', s = 300)\n",
    "plt.scatter(sim_user_longitude, sim_user_latitude, color = 'green', marker = '*', s = 250)\n",
    "plt.scatter(reco_longitude_list, reco_latitude_list, color = 'red', marker = 'p', s = 50)\n",
    "plt.scatter(nsim_user_longitude, nsim_user_latitude, color = 'brown', marker = '*', s = 250)\n",
    "plt.scatter(median_longitude, median_latitude, color = 'blue',marker='x', s = 150, linewidths=2.5)\n",
    "plt.ylabel('Latitude')\n",
    "plt.xlabel('Longitude')"
   ]
  },
  {
   "cell_type": "markdown",
   "metadata": {},
   "source": [
    "After testing the model lets run it with real data. For this purpose we need to prepare that data first. Lets fetch reviews, users and business datasets and put them together in a single dataframe, so that each row will correspond to an individual review with all data on user who has made a review and a business reviewed by that user: "
   ]
  },
  {
   "cell_type": "code",
   "execution_count": 269,
   "metadata": {
    "collapsed": false
   },
   "outputs": [],
   "source": [
    "reviews_data = list(db.review.find({},{\"_id\":0, \"text\":0, \"type\":0, \"friends\":0 }))\n",
    "\n",
    "reviews_df = pd.DataFrame(reviews_data)\n",
    "\n",
    "reviews_data = []"
   ]
  },
  {
   "cell_type": "code",
   "execution_count": 270,
   "metadata": {
    "collapsed": true
   },
   "outputs": [],
   "source": [
    "users_data = list(db.user.find({},{\"_id\":0, \"type\":0}))\n",
    "\n",
    "users_df = pd.DataFrame(users_data)\n",
    "\n",
    "users_data = []"
   ]
  },
  {
   "cell_type": "code",
   "execution_count": 271,
   "metadata": {
    "collapsed": true
   },
   "outputs": [],
   "source": [
    "reviews_users_df = pd.merge(reviews_df, users_df, on='user_id') # merging 2 dataset on user_id\n",
    "\n",
    "users_df = []\n",
    "\n",
    "reviews_df = []"
   ]
  },
  {
   "cell_type": "code",
   "execution_count": 272,
   "metadata": {
    "collapsed": true
   },
   "outputs": [],
   "source": [
    "# All food related businesses have Restaurants as parent category, thus filtering non-restaurant businesses using parent category \n",
    "\n",
    "business_data = list(db.business.find())\n",
    "\n",
    "substring = 'Restaurants'\n",
    "\n",
    "restaurants_only = []\n",
    "\n",
    "for business in business_data:\n",
    "    \n",
    "    if substring in business['categories']:\n",
    "        \n",
    "        restaurants_only.append(business)\n",
    "        \n",
    "    else:\n",
    "        \n",
    "        continue\n",
    "        \n",
    "rest_only_df = pd.DataFrame(restaurants_only)\n",
    "\n",
    "business_data = []"
   ]
  },
  {
   "cell_type": "code",
   "execution_count": 273,
   "metadata": {
    "collapsed": true
   },
   "outputs": [],
   "source": [
    "big_df = pd.merge(reviews_users_df, rest_only_df, on='business_id') # merging 2 datasets on business_id\n",
    "\n",
    "reviews_users_df = []"
   ]
  },
  {
   "cell_type": "code",
   "execution_count": 274,
   "metadata": {
    "collapsed": false
   },
   "outputs": [],
   "source": [
    "# A recommender system can generate recommendations only when user activity data is available. To make it sure we will only\n",
    "# consider users with at least 10 reviews\n",
    "\n",
    "user_group = big_df.groupby('user_id').size()\n",
    "\n",
    "users_list = []\n",
    "\n",
    "index = 0\n",
    "\n",
    "for user_id in user_group.index:\n",
    "    \n",
    "    if user_group.values[index] >= 10:\n",
    "        \n",
    "        users_list.append(user_id)\n",
    "        \n",
    "    index = index + 1"
   ]
  },
  {
   "cell_type": "code",
   "execution_count": 275,
   "metadata": {
    "collapsed": false
   },
   "outputs": [],
   "source": [
    "# Making final data preparations (active users filtering and sorting by user_ids)\n",
    "\n",
    "big_df = big_df[big_df.user_id.isin(users_list) == True]\n",
    "big_df = big_df.sort_values('user_id')"
   ]
  },
  {
   "cell_type": "code",
   "execution_count": 276,
   "metadata": {
    "collapsed": false
   },
   "outputs": [],
   "source": [
    "# Users preference vectors generation takes a long time to compute. We have computed it once and saved it in a separate csv file\n",
    "\n",
    "users_pref_df = pd.read_csv('users_pref_vectors.csv')\n",
    "users_pref_df = users_pref_df.set_index('Unnamed: 0')"
   ]
  },
  {
   "cell_type": "code",
   "execution_count": 277,
   "metadata": {
    "collapsed": false
   },
   "outputs": [],
   "source": [
    "# Getting tips data\n",
    "\n",
    "tips_data = list(db.tip.find({},{\"business_id\":1,\"user_id\":1, \"_id\":0}))\n",
    "tips_df = pd.DataFrame(tips_data)\n",
    "tips_data = []\n",
    "business_data = list(db.business.find({},{\"latitude\":1,\"longitude\":1, \"business_id\":1, \"city\":1, \"_id\":0}))\n",
    "business_df = pd.DataFrame(business_data)\n",
    "business_data = []\n",
    "tips_loc_df = pd.merge(tips_df, business_df, on='business_id')\n",
    "tips_df = []\n",
    "business_df = []"
   ]
  },
  {
   "cell_type": "markdown",
   "metadata": {},
   "source": [
    "As the model uses median reference user`s location to identify the closest relevant businesses, it may not work well for some users who have reviews for businesses located in different countries or continents. This is why we will generate recommendations for users who have reviews only within one city. Lets call such users \"homesitters\""
   ]
  },
  {
   "cell_type": "code",
   "execution_count": 278,
   "metadata": {
    "collapsed": false
   },
   "outputs": [],
   "source": [
    "# Randomly choosing 1000 users from the set and identifying if that users are active only in one city in terms of reviews and\n",
    "# active in one or no cities in terms of tips. If user is passing the check then user id is being recorded into the homesitters list\n",
    "\n",
    "homesitters = big_df.user_id.unique()\n",
    "\n",
    "homesitters = np.random.choice(homesitters, size=1000)\n",
    "\n",
    "homesitters_list = list()\n",
    "\n",
    "for homesitter in homesitters:\n",
    "    \n",
    "    if len(big_df[big_df.user_id == homesitter].groupby('city').size().index.tolist()) == 1:\n",
    "        \n",
    "        if len(tips_loc_df[tips_loc_df.user_id == homesitter].groupby('city').size().index.tolist()) <= 1:\n",
    "            \n",
    "            homesitters_list.append(homesitter)"
   ]
  },
  {
   "cell_type": "code",
   "execution_count": 281,
   "metadata": {
    "collapsed": false
   },
   "outputs": [
    {
     "data": {
      "text/plain": [
       "['3gQeZj9dlVNlRVI-pcUc4Q',\n",
       " 'QzM8Ec0h9jCwTSAdp10owA',\n",
       " '07rQTc1iCe_C8aZvTxCTdA',\n",
       " 'gcpgBu2wqgUuJcujapIf0g',\n",
       " 'gbh8qAkJNnHosIKEMKCEZA',\n",
       " '3XDIE54iS2hfq8XcdoAqXQ',\n",
       " 'T8kaav3upnuqCGYHbWHjqQ',\n",
       " 'r9pg1UeSLCeIxLDcjghFAw',\n",
       " 'D-2f-UUrCVhzVSGyGzUvjQ',\n",
       " '4uyPe6r3PUqeHZnjwm66wg']"
      ]
     },
     "execution_count": 281,
     "metadata": {},
     "output_type": "execute_result"
    }
   ],
   "source": [
    "homesitters_list[0:10]"
   ]
  },
  {
   "cell_type": "markdown",
   "metadata": {},
   "source": [
    "#### Important note:\n",
    "\n",
    "Due to computational limitations we had to limit a number of considered similar users and corresponding businesses to 200 most similar users and 300 corresponding businesses respectively. Otherwise generating recommendations with the real data (with no limitations) would consume quite a lot of time"
   ]
  },
  {
   "cell_type": "code",
   "execution_count": 282,
   "metadata": {
    "collapsed": true
   },
   "outputs": [],
   "source": [
    "# Generating recommendations for a user in the homesitters list\n",
    "\n",
    "reco_user = 'xyMsaTe21NSByFgQCqfNmw'\n",
    "user_pref_vector = users_pref_df[users_pref_df.index == reco_user]"
   ]
  },
  {
   "cell_type": "code",
   "execution_count": 283,
   "metadata": {
    "collapsed": false
   },
   "outputs": [
    {
     "data": {
      "text/plain": [
       "{'American (New)': 0.043277134527280298,\n",
       " 'American (Traditional)': 0.043483965014577262,\n",
       " 'Bakeries': 0.071428571428571425,\n",
       " 'Barbeque': 0.071428571428571425,\n",
       " 'Bars': 0.057959183673469375,\n",
       " 'Breakfast & Brunch': 0.072052644731361928,\n",
       " 'Cafes': 0.071428571428571425,\n",
       " 'Coffee & Tea': 0.057142857142857134,\n",
       " 'Food': 0.072052478134110795,\n",
       " 'Italian': 0.042857142857142864,\n",
       " 'Juice Bars & Smoothies': 0.042857142857142864,\n",
       " 'Mediterranean': 0.057142857142857134,\n",
       " 'Mexican': 0.057142857142857134,\n",
       " 'Nightlife': 0.057959183673469375,\n",
       " 'Pizza': 0.057755102040816325,\n",
       " 'Restaurants': 0.058172138429205211,\n",
       " 'Steakhouses': 0.071428571428571425,\n",
       " 'Tapas Bars': 0.057142857142857134,\n",
       " 'Tapas/Small Plates': 0.057959183673469375,\n",
       " 'Vegetarian': 0.057142857142857134,\n",
       " 'Wine Bars': 0.057142857142857134}"
      ]
     },
     "execution_count": 283,
     "metadata": {},
     "output_type": "execute_result"
    }
   ],
   "source": [
    "user_preferences_dict = ref_user_pref(users_pref_df) \n",
    "user_preferences_dict"
   ]
  },
  {
   "cell_type": "code",
   "execution_count": 284,
   "metadata": {
    "collapsed": false
   },
   "outputs": [
    {
     "data": {
      "text/plain": [
       "23624"
      ]
     },
     "execution_count": 284,
     "metadata": {},
     "output_type": "execute_result"
    }
   ],
   "source": [
    "indexes = users_pref_df[users_pref_df.index!= user_pref_vector.index[0]].index # 6\n",
    "len(indexes)"
   ]
  },
  {
   "cell_type": "code",
   "execution_count": 285,
   "metadata": {
    "collapsed": false
   },
   "outputs": [
    {
     "data": {
      "text/plain": [
       "23624"
      ]
     },
     "execution_count": 285,
     "metadata": {},
     "output_type": "execute_result"
    }
   ],
   "source": [
    "sorted_user_similarities = cos_similarity(indexes, users_pref_df, user_pref_vector) #7\n",
    "len(sorted_user_similarities)"
   ]
  },
  {
   "cell_type": "code",
   "execution_count": 286,
   "metadata": {
    "collapsed": false
   },
   "outputs": [],
   "source": [
    "similar_users = sorted_user_similarities[-200:] # 8\n"
   ]
  },
  {
   "cell_type": "code",
   "execution_count": 287,
   "metadata": {
    "collapsed": false
   },
   "outputs": [
    {
     "data": {
      "text/plain": [
       "2353"
      ]
     },
     "execution_count": 287,
     "metadata": {},
     "output_type": "execute_result"
    }
   ],
   "source": [
    "similar_user_business_rating_list = business_rating(similar_users, big_df) # 9\n",
    "# List length check\n",
    "len(similar_user_business_rating_list)"
   ]
  },
  {
   "cell_type": "code",
   "execution_count": 288,
   "metadata": {
    "collapsed": false
   },
   "outputs": [],
   "source": [
    "similar_user_business_rating_list = similar_user_business_rating_list[-300:] # 10\n"
   ]
  },
  {
   "cell_type": "code",
   "execution_count": 289,
   "metadata": {
    "collapsed": true
   },
   "outputs": [],
   "source": [
    "reviews_latitude_list = big_df[big_df.user_id == reco_user].latitude.tolist()  # 11\n",
    "reviews_longitude_list = big_df[big_df.user_id == reco_user].longitude.tolist()\n",
    "user_mean_latitude = np.median((reviews_latitude_list))\n",
    "user_mean_longitude = np.median((reviews_longitude_list))"
   ]
  },
  {
   "cell_type": "code",
   "execution_count": 290,
   "metadata": {
    "collapsed": false
   },
   "outputs": [],
   "source": [
    "tips_latitude_list = list()\n",
    "\n",
    "tips_longitude_list = list()\n",
    "\n",
    "reco_user_tipped_business_ids = tips_loc_df[tips_loc_df.user_id == reco_user].business_id.unique().tolist()\n",
    "\n",
    "if reco_user_tipped_business_ids != []:\n",
    "    \n",
    "    for business in reco_user_tipped_business_ids:\n",
    "        \n",
    "        tips_latitude = tips_loc_df[tips_loc_df.business_id == business].latitude.values[0]\n",
    "        \n",
    "        tips_longitude = tips_loc_df[tips_loc_df.business_id == business].longitude.values[0]\n",
    "        \n",
    "        tips_latitude_list.append(tips_latitude)\n",
    "        \n",
    "        tips_longitude_list.append(tips_longitude)\n",
    "        \n",
    "else:\n",
    "    tips_latitude_list = []\n",
    "    \n",
    "    tips_longitude_list = []"
   ]
  },
  {
   "cell_type": "code",
   "execution_count": 291,
   "metadata": {
    "collapsed": true
   },
   "outputs": [],
   "source": [
    "sim_bus = distance(similar_user_business_rating_list, big_df, user_mean_latitude, user_mean_longitude) # 12"
   ]
  },
  {
   "cell_type": "code",
   "execution_count": 292,
   "metadata": {
    "collapsed": false
   },
   "outputs": [
    {
     "data": {
      "text/plain": [
       "300"
      ]
     },
     "execution_count": 292,
     "metadata": {},
     "output_type": "execute_result"
    }
   ],
   "source": [
    "most_close_businesses_list = combination_metric(sim_bus)\n",
    "len(most_close_businesses_list)"
   ]
  },
  {
   "cell_type": "code",
   "execution_count": 293,
   "metadata": {
    "collapsed": false
   },
   "outputs": [
    {
     "data": {
      "text/plain": [
       "300"
      ]
     },
     "execution_count": 293,
     "metadata": {},
     "output_type": "execute_result"
    }
   ],
   "source": [
    "pref_weighted_businesses = weight_tastes(most_close_businesses_list, big_df)\n",
    "len(pref_weighted_businesses)"
   ]
  },
  {
   "cell_type": "code",
   "execution_count": 294,
   "metadata": {
    "collapsed": false
   },
   "outputs": [
    {
     "data": {
      "text/plain": [
       "[('RFqDK2b5mpasIuAzDoDdDg', 8739.5472505702583),\n",
       " ('__kNfrrGoUXoF-BYciMU_Q', 9524.383438600662),\n",
       " ('NmEXZjVH9Mq0Vy63hSDMDA', 10105.30942805316),\n",
       " ('tGx7BSyqWDeppMvt2aQw_A', 11983.974791639044),\n",
       " ('vPDeCSYSD0XOD7r6XwU6wA', 13059.958501517258),\n",
       " ('8Nsh8u0zHYegI6XT1L39Lg', 13069.06258724391),\n",
       " ('TrbhJJUIX7ed4I8ITSOq3A', 13766.407414859639),\n",
       " ('mgN7A6Uw8ObmoTNZvx6VOg', 57100.773232979016),\n",
       " ('MhgYfihkb1QZfVpSNLb2uA', 64499.318289523224),\n",
       " ('XaNkj7C0-4yERZ9Sysu1fQ', 94182.564334509385)]"
      ]
     },
     "execution_count": 294,
     "metadata": {},
     "output_type": "execute_result"
    }
   ],
   "source": [
    "recommended = sorted(pref_weighted_businesses.items(), key = lambda t:t[1])[-10:] \n",
    "recommended"
   ]
  },
  {
   "cell_type": "code",
   "execution_count": 295,
   "metadata": {
    "collapsed": true
   },
   "outputs": [],
   "source": [
    "reco_longitude_list = list()\n",
    "\n",
    "reco_latitude_list = list()\n",
    "\n",
    "for item in recommended:\n",
    "    \n",
    "    reco_longitude = rest_only_df[rest_only_df.business_id == item[0]].longitude.values[0]\n",
    "    \n",
    "    reco_latitude = rest_only_df[rest_only_df.business_id == item[0]].latitude.values[0]\n",
    "    \n",
    "    reco_longitude_list.append(reco_longitude)\n",
    "    \n",
    "    reco_latitude_list.append(reco_latitude)"
   ]
  },
  {
   "cell_type": "markdown",
   "metadata": {},
   "source": [
    "The figure below shows restaurants locations which have been reviewed (green stars) and tipped (orange stars) by the reference user. Red dots correspond to businesses locations that are recommended for the reference user based on user`s preferences and reviews of other users with similar preferences. Blue cross indicates reference user`s median location\n",
    "\n",
    "We can also see that there is one overlapped recommendation for this particular reference user. (overlapped recommendation is the business which has been recommended by the engine and actually reviewed by the reference user)"
   ]
  },
  {
   "cell_type": "code",
   "execution_count": 298,
   "metadata": {
    "collapsed": false
   },
   "outputs": [
    {
     "data": {
      "text/plain": [
       "<matplotlib.text.Text at 0x20978b92860>"
      ]
     },
     "execution_count": 298,
     "metadata": {},
     "output_type": "execute_result"
    },
    {
     "data": {
      "image/png": "[encoded data removed]",
      "text/plain": [
       "<matplotlib.figure.Figure at 0x20968fedc18>"
      ]
     },
     "metadata": {},
     "output_type": "display_data"
    }
   ],
   "source": [
    "plt.figure()\n",
    "\n",
    "plt.scatter(reviews_latitude_list, reviews_longitude_list, color = 'green', marker = '*', s = 50) # locations of businesses reviewed by the user\n",
    "plt.scatter(tips_latitude_list, tips_longitude_list, color = 'orange', marker = '*', s = 50)\n",
    "plt.scatter(user_mean_latitude, user_mean_longitude, color = 'blue',marker='x', s = 80, linewidths=2.5) # mean location for the user\n",
    "plt.scatter(reco_latitude_list, reco_longitude_list, color = 'red', s = 10) # recommneded businesses\n",
    "plt.ylabel('Latitude')\n",
    "plt.xlabel('Longitude')\n"
   ]
  },
  {
   "cell_type": "markdown",
   "metadata": {},
   "source": [
    "Lets evaluate how reference user`s ratings for overlapped recommendations match cumulative ratings of similar users for the same overlapped recommendations. This will give us a little understanding whether a reference users really liked recommended businesses or not. The precision of the model will be identified by computing a mean square error between actual reference user`s ratings and cumulative ratings of similar users for the same overlapped recommendations.\n",
    "\n",
    "Again, due to single machine`s computational limitations we will run the model only for 100 users collecting reference users ratings and similar users cumulative ratings for all overlapped businesses.\n",
    "\n",
    "Given that collected ratings data we will compute RMSE..."
   ]
  },
  {
   "cell_type": "code",
   "execution_count": 526,
   "metadata": {
    "collapsed": true
   },
   "outputs": [],
   "source": [
    "homesitters = homesitters_list[0:100]"
   ]
  },
  {
   "cell_type": "code",
   "execution_count": 527,
   "metadata": {
    "collapsed": false
   },
   "outputs": [
    {
     "name": "stdout",
     "output_type": "stream",
     "text": [
      "[5.0, 5.0, 5.0, 5.0, 4.466534455911477, 4.494564960951103, 5.0, 5.0, 5.0, 5.0, 5.0, 5.0, 5.0, 5.0000000000000009, 4.075991528679021, 4.084959422929139, 5.0, 5.0, 4.201742813835115, 4.254238601524005, 5.0, 5.0, 5.0, 5.000000000000001, 5.000000000000001, 4.560502138023534, 4.711807830355102, 5.0, 5.0, 5.0, 5.0] [4.0, 2.0, 3.0, 5.0, 5.0, 5.0, 1.0, 4.0, 3.0, 3.0, 3.0, 5.0, 4.0, 5.0, 4.0, 3.0, 5.0, 4.0, 4.0, 5.0, 1.0, 5.0, 5.0, 4.0, 5.0, 5.0, 4.0, 4.0, 4.0, 4.0, 5.0]\n"
     ]
    }
   ],
   "source": [
    "computed_rating_list = []\n",
    "\n",
    "real_reco_users_rating_list = []\n",
    "\n",
    "for homesitter in homesitters:\n",
    "    \n",
    "    reco_user = homesitter\n",
    "    \n",
    "    user_pref_vector = users_pref_df[users_pref_df.index == reco_user]\n",
    "    \n",
    "    indexes = users_pref_df[users_pref_df.index!= user_pref_vector.index[0]].index\n",
    "    \n",
    "    sorted_user_similarities = cos_similarity(indexes, users_pref_df, user_pref_vector)\n",
    "    \n",
    "    similar_users = sorted_user_similarities[-200:]\n",
    "    \n",
    "    similar_user_business_rating_list = business_rating(similar_users, big_df)\n",
    "    \n",
    "    similar_user_business_rating_list = similar_user_business_rating_list[-300:]\n",
    "    \n",
    "    reviews_latitude_list = big_df[big_df.user_id == reco_user].latitude.tolist()\n",
    "    \n",
    "    reviews_longitude_list = big_df[big_df.user_id == reco_user].longitude.tolist()\n",
    "    \n",
    "    user_mean_latitude = np.median((reviews_latitude_list))\n",
    "    \n",
    "    user_mean_longitude = np.median((reviews_longitude_list))\n",
    "    \n",
    "    sim_bus = distance(similar_user_business_rating_list, big_df, user_mean_latitude, user_mean_longitude)\n",
    "    \n",
    "    most_close_businesses_list = combination_metric(sim_bus)\n",
    "    \n",
    "    pref_weighted_businesses = weight_tastes(most_close_businesses_list, big_df)\n",
    "    \n",
    "    recommended = sorted(pref_weighted_businesses.items(), key = lambda t:t[1])[-10:]\n",
    "    \n",
    "    reviwed_business_ids = big_df[big_df.user_id == reco_user].business_id.values\n",
    "    \n",
    "    recommended_business_ids = list()\n",
    "    \n",
    "    for reco in recommended:\n",
    "        \n",
    "        recommended_business_ids.append(reco[0])\n",
    "        \n",
    "    overlapped_reviews = list(set(recommended_business_ids) & set(reviwed_business_ids.tolist()))\n",
    "    \n",
    "    for item in similar_user_business_rating_list:\n",
    "        \n",
    "        for another_item in overlapped_reviews:\n",
    "            \n",
    "            if item[0] == another_item:\n",
    "                \n",
    "                computed_rating = item[1]\n",
    "                \n",
    "                real_reco_users_rating = big_df[(big_df.user_id == reco_user) & (big_df.business_id == another_item)].stars_x.values\n",
    "                \n",
    "                if len(real_reco_users_rating) != 1:\n",
    "                    \n",
    "                    real_reco_users_rating = float(real_reco_users_rating.min())\n",
    "                    \n",
    "                else:\n",
    "                    \n",
    "                    real_reco_users_rating = float(real_reco_users_rating[0])\n",
    "                    \n",
    "                computed_rating_list.append(computed_rating)\n",
    "                \n",
    "                real_reco_users_rating_list.append(real_reco_users_rating)\n",
    "                    \n",
    "            else:  \n",
    "                \n",
    "                continue\n",
    "                \n",
    "print(computed_rating_list, real_reco_users_rating_list)                    "
   ]
  },
  {
   "cell_type": "code",
   "execution_count": 531,
   "metadata": {
    "collapsed": false
   },
   "outputs": [
    {
     "data": {
      "text/plain": [
       "1.4812772465079722"
      ]
     },
     "execution_count": 531,
     "metadata": {},
     "output_type": "execute_result"
    }
   ],
   "source": [
    "RMSE = np.sqrt(np.mean(np.power(np.array(computed_rating_list) - np.array(real_reco_users_rating_list), 2)))\n",
    "\n",
    "RMSE"
   ]
  }
 ],
 "metadata": {
  "kernelspec": {
   "display_name": "Python 3",
   "language": "python",
   "name": "python3"
  },
  "language_info": {
   "codemirror_mode": {
    "name": "ipython",
    "version": 3
   },
   "file_extension": ".py",
   "mimetype": "text/x-python",
   "name": "python",
   "nbconvert_exporter": "python",
   "pygments_lexer": "ipython3",
   "version": "3.5.1"
  }
 },
 "nbformat": 4,
 "nbformat_minor": 0
}
